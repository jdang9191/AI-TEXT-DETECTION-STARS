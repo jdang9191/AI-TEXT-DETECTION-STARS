{
 "cells": [
  {
   "cell_type": "code",
   "execution_count": 4,
   "id": "74462ed9-9fe8-4ca4-bded-51c35f24ce75",
   "metadata": {},
   "outputs": [],
   "source": [
    "import os\n",
    "os.environ['KERAS_BACKEND'] = 'tensorflow'\n",
    "import numpy as np # linear algebra\n",
    "import pandas as pd\n",
    "import tensorflow as tf\n",
    "import keras_nlp"
   ]
  },
  {
   "cell_type": "code",
   "execution_count": 5,
   "id": "4c867cab-b311-457e-82f4-062a95d31818",
   "metadata": {},
   "outputs": [],
   "source": [
    "import seaborn as sns\n",
    "import matplotlib.pyplot as plt"
   ]
  },
  {
   "cell_type": "code",
   "execution_count": 6,
   "id": "db3a72ac-5818-4277-ba53-33da3b7c65a1",
   "metadata": {},
   "outputs": [],
   "source": [
    "model_path = 'models/llm/kerasBeginnerModel/starter_model.keras'\n"
   ]
  },
  {
   "cell_type": "code",
   "execution_count": 7,
   "id": "cb1c5b9d-4111-4f13-a2c9-6f43b8db8f71",
   "metadata": {},
   "outputs": [
    {
     "name": "stderr",
     "output_type": "stream",
     "text": [
      "/opt/anaconda3/envs/kerasnlpstarter/lib/python3.11/site-packages/keras/src/saving/serialization_lib.py:734: UserWarning: `compile()` was not called as part of model loading because the model's `compile()` method is custom. All subclassed Models that have `compile()` overridden should also override `get_compile_config()` and `compile_from_config(config)`. Alternatively, you can call `compile()` manually after loading.\n",
      "  instance.compile_from_config(compile_config)\n",
      "/opt/anaconda3/envs/kerasnlpstarter/lib/python3.11/site-packages/keras/src/saving/saving_lib.py:576: UserWarning: Skipping variable loading for optimizer 'adam', because it has 2 variables whereas the saved optimizer has 10 variables. \n",
      "  saveable.load_own_variables(weights_store.get(inner_path))\n"
     ]
    }
   ],
   "source": [
    "loaded_classifier = tf.keras.models.load_model(model_path)"
   ]
  },
  {
   "cell_type": "code",
   "execution_count": 9,
   "id": "34b79bff-dde5-4598-bfc4-126608b3746c",
   "metadata": {},
   "outputs": [],
   "source": [
    "loaded_classifier.compile(\n",
    "    loss=tf.keras.losses.SparseCategoricalCrossentropy(from_logits=True),\n",
    "    optimizer=tf.keras.optimizers.Adam(5e-4),\n",
    "    metrics=[\n",
    "        tf.keras.metrics.SparseCategoricalAccuracy()\n",
    "   ]\n",
    ")\n"
   ]
  },
  {
   "cell_type": "code",
   "execution_count": 127,
   "id": "4d374d35-b8ba-433c-bead-0cb63190309c",
   "metadata": {},
   "outputs": [
    {
     "name": "stdout",
     "output_type": "stream",
     "text": [
      "generated\n",
      "1    3500\n",
      "Name: count, dtype: int64\n"
     ]
    }
   ],
   "source": [
    "df_new_generated_prompts = pd.read_csv(\"kaggle/input/daigt-proper-train-dataset/train_essays_v1.csv\")\n",
    "df_new_generated_prompts.rename(columns = {\"label\":\"generated\"}, inplace=True)\n",
    "df_new_generated_prompts.head()\n",
    "value_counts = df_new_generated_prompts['generated'].value_counts()\n",
    "print(value_counts)\n"
   ]
  },
  {
   "cell_type": "code",
   "execution_count": 11,
   "id": "da218cb0-85db-4605-b31a-19c33fe4e6df",
   "metadata": {},
   "outputs": [
    {
     "name": "stdout",
     "output_type": "stream",
     "text": [
      "kaggle/my_datasets/gpt_semantic.csv\n",
      "kaggle/my_datasets/human.csv\n",
      "kaggle/my_datasets/gpt_prompt2.csv\n",
      "kaggle/my_datasets/gpt_prompt1.csv\n",
      "kaggle/my_datasets/claude.csv\n",
      "kaggle/my_datasets/gpt_writing.csv\n",
      "kaggle/my_datasets/gpt.csv\n"
     ]
    }
   ],
   "source": [
    "DATA_DIR = 'kaggle/my_datasets/'\n",
    "\n",
    "for dirname, _, filenames in os.walk(DATA_DIR):\n",
    "    for filename in filenames:\n",
    "        print(os.path.join(dirname, filename))"
   ]
  },
  {
   "cell_type": "code",
   "execution_count": 106,
   "id": "1ce2fd0a-55b5-41cb-8e10-bafd49117b34",
   "metadata": {},
   "outputs": [],
   "source": [
    "df_gpt_semantic = pd.read_csv(\"kaggle/my_datasets/gpt_semantic.csv\")\n",
    "df_gpt_prompt1 = pd.read_csv(\"kaggle/my_datasets/gpt_prompt1.csv\")\n",
    "df_gpt_prompt2 = pd.read_csv(\"kaggle/my_datasets/gpt_prompt2.csv\")\n",
    "df_claude = pd.read_csv(\"kaggle/my_datasets/claude.csv\")\n",
    "df_gpt_writing = pd.read_csv(\"kaggle/my_datasets/gpt_writing.csv\")\n",
    "df_gpt = pd.read_csv(\"kaggle/my_datasets/gpt.csv\")\n",
    "df_human = pd.read_csv(\"kaggle/my_datasets/human.csv\")\n",
    "df_human2 = pd.read_csv(\"kaggle/my_datasets/human2.csv\")\n",
    "df_human3 = pd.read_csv(\"kaggle/my_datasets/human3.csv\")\n",
    "\n",
    "#df_gpt_semantic.info()\n",
    "#df_gpt_prompt1.head()\n",
    "#df_gpt_prompt2.head()\n",
    "#df_claude.head()\n",
    "#df_gpt_writing.head()\n",
    "#df_gpt.head()\n",
    "#df_human.head()"
   ]
  },
  {
   "cell_type": "code",
   "execution_count": 107,
   "id": "d149f48c-3683-4cb0-b408-6a1ba6bbf81e",
   "metadata": {},
   "outputs": [
    {
     "name": "stdout",
     "output_type": "stream",
     "text": [
      "<class 'pandas.core.frame.DataFrame'>\n",
      "Index: 9000 entries, 0 to 999\n",
      "Data columns (total 2 columns):\n",
      " #   Column  Non-Null Count  Dtype \n",
      "---  ------  --------------  ----- \n",
      " 0   text    8994 non-null   object\n",
      " 1   label   9000 non-null   int64 \n",
      "dtypes: int64(1), object(1)\n",
      "memory usage: 210.9+ KB\n"
     ]
    }
   ],
   "source": [
    "df_ghostbuster_essays_final = pd.concat([\n",
    "    df_gpt_semantic[[\"text\", \"label\"]],\n",
    "    df_gpt_prompt1[[\"text\", \"label\"]],\n",
    "    df_gpt_prompt2[[\"text\", \"label\"]],\n",
    "    df_claude[[\"text\", \"label\"]],\n",
    "    df_gpt_writing[[\"text\", \"label\"]],\n",
    "    df_gpt[[\"text\", \"label\"]],\n",
    "    df_human[[\"text\", \"label\"]],\n",
    "    df_human2[[\"text\", \"label\"]],\n",
    "    df_human3[[\"text\", \"label\"]]\n",
    "])\n",
    "\n",
    "df_ghostbuster_essays_final.info()"
   ]
  },
  {
   "cell_type": "code",
   "execution_count": 109,
   "id": "dbeda9dc-91c7-4706-91cd-561d51e3cd85",
   "metadata": {},
   "outputs": [
    {
     "name": "stdout",
     "output_type": "stream",
     "text": [
      "<class 'pandas.core.frame.DataFrame'>\n",
      "Index: 9000 entries, 0 to 999\n",
      "Data columns (total 2 columns):\n",
      " #   Column     Non-Null Count  Dtype \n",
      "---  ------     --------------  ----- \n",
      " 0   text       8994 non-null   object\n",
      " 1   generated  9000 non-null   int64 \n",
      "dtypes: int64(1), object(1)\n",
      "memory usage: 210.9+ KB\n"
     ]
    }
   ],
   "source": [
    "df_ghostbuster_essays_final.rename(columns = {\"label\":\"generated\"}, inplace=True)\n",
    "df_ghostbuster_essays_final.info()"
   ]
  },
  {
   "cell_type": "code",
   "execution_count": 110,
   "id": "38de9578-220a-42e8-80a7-3cc81d5fe8de",
   "metadata": {},
   "outputs": [
    {
     "name": "stdout",
     "output_type": "stream",
     "text": [
      "<class 'pandas.core.frame.DataFrame'>\n",
      "Index: 12500 entries, 0 to 999\n",
      "Data columns (total 2 columns):\n",
      " #   Column     Non-Null Count  Dtype \n",
      "---  ------     --------------  ----- \n",
      " 0   text       12494 non-null  object\n",
      " 1   generated  12500 non-null  int64 \n",
      "dtypes: int64(1), object(1)\n",
      "memory usage: 293.0+ KB\n"
     ]
    }
   ],
   "source": [
    "df_new_test_set = pd.concat([df_new_generated_prompts[[\"text\", \"generated\"]], df_ghostbuster_essays_final[[\"text\", \"generated\"]]])\n",
    "\n",
    "df_new_test_set.info()"
   ]
  },
  {
   "cell_type": "code",
   "execution_count": 111,
   "id": "829a11d7-6d80-4872-aeaa-7484e5deef74",
   "metadata": {},
   "outputs": [],
   "source": [
    "SEQ_LENGTH = 512  # Use the same sequence length as used during training\n",
    "\n",
    "preprocessor = keras_nlp.models.DistilBertPreprocessor.from_preset(\n",
    "    \"distil_bert_base_en_uncased\",\n",
    "    sequence_length=SEQ_LENGTH,\n",
    ")\n",
    "\n",
    "\n"
   ]
  },
  {
   "cell_type": "code",
   "execution_count": 112,
   "id": "d7c764d3-e0e6-4fe2-8c92-3fdcb9c7c0e8",
   "metadata": {},
   "outputs": [],
   "source": [
    "df_new_test_set = df_new_test_set.dropna(subset=['text']).copy()\n",
    "df_new_test_set[\"text_length\"] = df_new_test_set[\"text\"].apply(lambda x : len(x.split()))\n"
   ]
  },
  {
   "cell_type": "code",
   "execution_count": 113,
   "id": "51e9ebf9-b730-4950-9135-da8c61263343",
   "metadata": {},
   "outputs": [
    {
     "name": "stdout",
     "output_type": "stream",
     "text": [
      "<class 'pandas.core.frame.DataFrame'>\n",
      "Index: 12494 entries, 0 to 999\n",
      "Data columns (total 3 columns):\n",
      " #   Column       Non-Null Count  Dtype \n",
      "---  ------       --------------  ----- \n",
      " 0   text         12494 non-null  object\n",
      " 1   generated    12494 non-null  int64 \n",
      " 2   text_length  12494 non-null  int64 \n",
      "dtypes: int64(2), object(1)\n",
      "memory usage: 390.4+ KB\n"
     ]
    }
   ],
   "source": [
    "df_new_test_set.info()"
   ]
  },
  {
   "cell_type": "code",
   "execution_count": 117,
   "id": "af78565b-27ca-4ed7-aa1d-3780c8f92817",
   "metadata": {},
   "outputs": [],
   "source": [
    "from sklearn.model_selection import train_test_split\n",
    "\n",
    "# Use the entire dataset as the test set\n",
    "X_train, X_test, y_train, y_test = train_test_split(df_new_test_set[\"text\"],\n",
    "                                                    df_new_test_set[\"generated\"],\n",
    "                                                    test_size=0.99,  # Entire dataset for testing\n",
    "                                                    random_state=42)"
   ]
  },
  {
   "cell_type": "code",
   "execution_count": 118,
   "id": "21ea10a9-8f71-419c-8a68-c57a37cd5a00",
   "metadata": {},
   "outputs": [
    {
     "name": "stdout",
     "output_type": "stream",
     "text": [
      "<class 'pandas.core.series.Series'>\n",
      "Index: 12370 entries, 2884 to 976\n",
      "Series name: text\n",
      "Non-Null Count  Dtype \n",
      "--------------  ----- \n",
      "12370 non-null  object\n",
      "dtypes: object(1)\n",
      "memory usage: 193.3+ KB\n"
     ]
    }
   ],
   "source": [
    "X_test.info()"
   ]
  },
  {
   "cell_type": "code",
   "execution_count": 119,
   "id": "067ab7e5-bbdb-45b8-9a7a-a710b9035b72",
   "metadata": {},
   "outputs": [
    {
     "name": "stdout",
     "output_type": "stream",
     "text": [
      "Shape of X_test: (12370,)\n",
      "First few entries of X_test:\n",
      "2884    The second planet from the Sun, Venus is an Ea...\n",
      "960     Introduction (approx. 100 words)\\nGenetic tech...\n",
      "459     Introduction:\\nManagerial support plays a cruc...\n",
      "746     Diversicare Healthcare is a company that opera...\n",
      "734     It didn't make sense. In the dead of night, wh...\n",
      "Name: text, dtype: object\n"
     ]
    }
   ],
   "source": [
    "print(\"Shape of X_test:\", X_test.shape)\n",
    "print(\"First few entries of X_test:\")\n",
    "print(X_test.head())\n"
   ]
  },
  {
   "cell_type": "code",
   "execution_count": 120,
   "id": "9f147468-4565-45b1-bcd1-684aa82e6c4f",
   "metadata": {},
   "outputs": [
    {
     "name": "stdout",
     "output_type": "stream",
     "text": [
      "\u001b[1m387/387\u001b[0m \u001b[32m━━━━━━━━━━━━━━━━━━━━\u001b[0m\u001b[37m\u001b[0m \u001b[1m5318s\u001b[0m 14s/step\n"
     ]
    }
   ],
   "source": [
    "y_pred = loaded_classifier.predict(X_test)"
   ]
  },
  {
   "cell_type": "code",
   "execution_count": 121,
   "id": "df1c2a3f-59b3-4c12-b878-895088384933",
   "metadata": {},
   "outputs": [
    {
     "name": "stdout",
     "output_type": "stream",
     "text": [
      "[[ -6.6465406   6.487372 ]\n",
      " [ -9.064567    8.885942 ]\n",
      " [ -8.714944    8.484698 ]\n",
      " ...\n",
      " [ -7.537625    7.3503156]\n",
      " [-12.419193   12.219987 ]\n",
      " [ -3.181873    3.0671732]]\n"
     ]
    }
   ],
   "source": [
    "#print(\"Predicted labels:\")\n",
    "#print(y_pred_new)\n",
    "print(y_pred)"
   ]
  },
  {
   "cell_type": "code",
   "execution_count": 122,
   "id": "192c70c4-55dc-4819-83cb-355d7271c836",
   "metadata": {},
   "outputs": [
    {
     "name": "stdout",
     "output_type": "stream",
     "text": [
      "generated\n",
      "1    9406\n",
      "0    2964\n",
      "Name: count, dtype: int64\n"
     ]
    }
   ],
   "source": [
    "print(y_test.value_counts())"
   ]
  },
  {
   "cell_type": "code",
   "execution_count": 123,
   "id": "bc70ade1-c2cc-4b37-8247-650e53aaab59",
   "metadata": {},
   "outputs": [],
   "source": [
    "def displayConfusionMatrix(y_true, y_pred, dataset):\n",
    "    disp = ConfusionMatrixDisplay.from_predictions(\n",
    "        y_true,\n",
    "        np.argmax(y_pred, axis=1),\n",
    "        display_labels=[\"Not Generated\",\"Generated\"],\n",
    "        cmap=plt.cm.Blues\n",
    "    )\n",
    "\n",
    "    tn, fp, fn, tp = confusion_matrix(y_true, np.argmax(y_pred, axis=1)).ravel()\n",
    "    f1_score = tp / (tp+((fn+fp)/2))\n",
    "\n",
    "    disp.ax_.set_title(\"Confusion Matrix on \" + dataset + \" Dataset -- F1 Score: \" + str(f1_score.round(2)))"
   ]
  },
  {
   "cell_type": "code",
   "execution_count": 124,
   "id": "c0fa9975-62c3-4f80-9b49-3544a6dc1927",
   "metadata": {},
   "outputs": [
    {
     "data": {
      "image/png": "[encoded data removed]",
      "text/plain": [
       "<Figure size 640x480 with 2 Axes>"
      ]
     },
     "metadata": {},
     "output_type": "display_data"
    }
   ],
   "source": [
    "from sklearn.metrics import ConfusionMatrixDisplay, confusion_matrix\n",
    "displayConfusionMatrix(y_test, y_pred,  \"Test\")\n",
    "plt.savefig('confusion_matrix_test_results.png')"
   ]
  },
  {
   "cell_type": "code",
   "execution_count": null,
   "id": "755a7b3b-55be-4a4a-a602-46dfccd7af8d",
   "metadata": {},
   "outputs": [],
   "source": []
  }
 ],
 "metadata": {
  "kernelspec": {
   "display_name": "kerasnlpstarter",
   "language": "python",
   "name": "kerasnlpstarter"
  },
  "language_info": {
   "codemirror_mode": {
    "name": "ipython",
    "version": 3
   },
   "file_extension": ".py",
   "mimetype": "text/x-python",
   "name": "python",
   "nbconvert_exporter": "python",
   "pygments_lexer": "ipython3",
   "version": "3.11.5"
  }
 },
 "nbformat": 4,
 "nbformat_minor": 5
}
