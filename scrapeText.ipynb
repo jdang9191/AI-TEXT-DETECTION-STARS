{
 "cells": [
  {
   "cell_type": "code",
   "execution_count": 4,
   "id": "dc893fc6-559f-471d-b8eb-2c794750bec0",
   "metadata": {},
   "outputs": [
    {
     "name": "stdout",
     "output_type": "stream",
     "text": [
      "Dataset saved to kaggle/my_datasets/claude.csv\n"
     ]
    }
   ],
   "source": [
    "import os\n",
    "import pandas as pd\n",
    "\n",
    "# Specify the directory where your data files are located\n",
    "data_dir = 'ghostbuster_data/essay/claude'\n",
    "\n",
    "# Initialize an empty list to store data frames from each file\n",
    "dfs = []\n",
    "\n",
    "# Iterate over each file in the directory\n",
    "for filename in os.listdir(data_dir):\n",
    "    if filename.endswith('.txt'):\n",
    "        file_path = os.path.join(data_dir, filename)\n",
    "        with open(file_path, 'r', encoding='utf-8') as file:\n",
    "            text = file.read().strip()  # Read the entire content of the file\n",
    "            df = pd.DataFrame({'text': [text], 'label': [1]})  # Create a DataFrame with text and label\n",
    "            dfs.append(df)\n",
    "\n",
    "if not dfs:\n",
    "    print(\"No valid files found in the directory.\")\n",
    "else:\n",
    "    # Concatenate all data frames into a single DataFrame\n",
    "    combined_df = pd.concat(dfs, ignore_index=True)\n",
    "\n",
    "    # Save the combined DataFrame to a CSV file\n",
    "    output_file = 'kaggle/my_datasets/claude.csv'\n",
    "    combined_df.to_csv(output_file, index=False)\n",
    "\n",
    "    print(f\"Dataset saved to {output_file}\")\n"
   ]
  },
  {
   "cell_type": "code",
   "execution_count": 5,
   "id": "87cf6935-00eb-4a6b-b5c1-db97347e72c7",
   "metadata": {},
   "outputs": [
    {
     "name": "stdout",
     "output_type": "stream",
     "text": [
      "Dataset saved to kaggle/my_datasets/gpt.csv\n"
     ]
    }
   ],
   "source": [
    "# Specify the directory where your data files are located\n",
    "data_dir = 'ghostbuster_data/essay/gpt'\n",
    "\n",
    "# Initialize an empty list to store data frames from each file\n",
    "dfs = []\n",
    "\n",
    "# Iterate over each file in the directory\n",
    "for filename in os.listdir(data_dir):\n",
    "    if filename.endswith('.txt'):\n",
    "        file_path = os.path.join(data_dir, filename)\n",
    "        with open(file_path, 'r', encoding='utf-8') as file:\n",
    "            text = file.read().strip()  # Read the entire content of the file\n",
    "            df = pd.DataFrame({'text': [text], 'label': [1]})  # Create a DataFrame with text and label\n",
    "            dfs.append(df)\n",
    "\n",
    "if not dfs:\n",
    "    print(\"No valid files found in the directory.\")\n",
    "else:\n",
    "    # Concatenate all data frames into a single DataFrame\n",
    "    combined_df = pd.concat(dfs, ignore_index=True)\n",
    "\n",
    "    # Save the combined DataFrame to a CSV file\n",
    "    output_file = 'kaggle/my_datasets/gpt.csv'\n",
    "    combined_df.to_csv(output_file, index=False)\n",
    "\n",
    "    print(f\"Dataset saved to {output_file}\")"
   ]
  },
  {
   "cell_type": "code",
   "execution_count": 6,
   "id": "04b952c4-29f7-4d57-8057-814e1966a99c",
   "metadata": {},
   "outputs": [
    {
     "name": "stdout",
     "output_type": "stream",
     "text": [
      "Dataset saved to kaggle/my_datasets/gpt_prompt1.csv\n"
     ]
    }
   ],
   "source": [
    "# Specify the directory where your data files are located\n",
    "data_dir = 'ghostbuster_data/essay/gpt_prompt1'\n",
    "\n",
    "# Initialize an empty list to store data frames from each file\n",
    "dfs = []\n",
    "\n",
    "# Iterate over each file in the directory\n",
    "for filename in os.listdir(data_dir):\n",
    "    if filename.endswith('.txt'):\n",
    "        file_path = os.path.join(data_dir, filename)\n",
    "        with open(file_path, 'r', encoding='utf-8') as file:\n",
    "            text = file.read().strip()  # Read the entire content of the file\n",
    "            df = pd.DataFrame({'text': [text], 'label': [1]})  # Create a DataFrame with text and label\n",
    "            dfs.append(df)\n",
    "\n",
    "if not dfs:\n",
    "    print(\"No valid files found in the directory.\")\n",
    "else:\n",
    "    # Concatenate all data frames into a single DataFrame\n",
    "    combined_df = pd.concat(dfs, ignore_index=True)\n",
    "\n",
    "    # Save the combined DataFrame to a CSV file\n",
    "    output_file = 'kaggle/my_datasets/gpt_prompt1.csv'\n",
    "    combined_df.to_csv(output_file, index=False)\n",
    "\n",
    "    print(f\"Dataset saved to {output_file}\")"
   ]
  },
  {
   "cell_type": "code",
   "execution_count": 7,
   "id": "8718a9c4-40f6-4609-9e1f-502d0d441447",
   "metadata": {},
   "outputs": [
    {
     "name": "stdout",
     "output_type": "stream",
     "text": [
      "Dataset saved to kaggle/my_datasets/gpt_prompt2.csv\n"
     ]
    }
   ],
   "source": [
    "# Specify the directory where your data files are located\n",
    "data_dir = 'ghostbuster_data/essay/gpt_prompt2'\n",
    "\n",
    "# Initialize an empty list to store data frames from each file\n",
    "dfs = []\n",
    "\n",
    "# Iterate over each file in the directory\n",
    "for filename in os.listdir(data_dir):\n",
    "    if filename.endswith('.txt'):\n",
    "        file_path = os.path.join(data_dir, filename)\n",
    "        with open(file_path, 'r', encoding='utf-8') as file:\n",
    "            text = file.read().strip()  # Read the entire content of the file\n",
    "            df = pd.DataFrame({'text': [text], 'label': [1]})  # Create a DataFrame with text and label\n",
    "            dfs.append(df)\n",
    "\n",
    "if not dfs:\n",
    "    print(\"No valid files found in the directory.\")\n",
    "else:\n",
    "    # Concatenate all data frames into a single DataFrame\n",
    "    combined_df = pd.concat(dfs, ignore_index=True)\n",
    "\n",
    "    # Save the combined DataFrame to a CSV file\n",
    "    output_file = 'kaggle/my_datasets/gpt_prompt2.csv'\n",
    "    combined_df.to_csv(output_file, index=False)\n",
    "\n",
    "    print(f\"Dataset saved to {output_file}\")"
   ]
  },
  {
   "cell_type": "code",
   "execution_count": 8,
   "id": "f9006a0c-99a9-4408-8492-bd4c3f4000c5",
   "metadata": {},
   "outputs": [
    {
     "name": "stdout",
     "output_type": "stream",
     "text": [
      "Dataset saved to kaggle/my_datasets/gpt_semantic.csv\n"
     ]
    }
   ],
   "source": [
    "# Specify the directory where your data files are located\n",
    "data_dir = 'ghostbuster_data/essay/gpt_semantic'\n",
    "\n",
    "# Initialize an empty list to store data frames from each file\n",
    "dfs = []\n",
    "\n",
    "# Iterate over each file in the directory\n",
    "for filename in os.listdir(data_dir):\n",
    "    if filename.endswith('.txt'):\n",
    "        file_path = os.path.join(data_dir, filename)\n",
    "        with open(file_path, 'r', encoding='utf-8') as file:\n",
    "            text = file.read().strip()  # Read the entire content of the file\n",
    "            df = pd.DataFrame({'text': [text], 'label': [1]})  # Create a DataFrame with text and label\n",
    "            dfs.append(df)\n",
    "\n",
    "if not dfs:\n",
    "    print(\"No valid files found in the directory.\")\n",
    "else:\n",
    "    # Concatenate all data frames into a single DataFrame\n",
    "    combined_df = pd.concat(dfs, ignore_index=True)\n",
    "\n",
    "    # Save the combined DataFrame to a CSV file\n",
    "    output_file = 'kaggle/my_datasets/gpt_semantic.csv'\n",
    "    combined_df.to_csv(output_file, index=False)\n",
    "\n",
    "    print(f\"Dataset saved to {output_file}\")"
   ]
  },
  {
   "cell_type": "code",
   "execution_count": 9,
   "id": "73a214aa-b40d-4341-9ec5-abe52004544f",
   "metadata": {},
   "outputs": [
    {
     "name": "stdout",
     "output_type": "stream",
     "text": [
      "Dataset saved to kaggle/my_datasets/gpt_writing.csv\n"
     ]
    }
   ],
   "source": [
    "# Specify the directory where your data files are located\n",
    "data_dir = 'ghostbuster_data/essay/gpt_writing'\n",
    "\n",
    "# Initialize an empty list to store data frames from each file\n",
    "dfs = []\n",
    "\n",
    "# Iterate over each file in the directory\n",
    "for filename in os.listdir(data_dir):\n",
    "    if filename.endswith('.txt'):\n",
    "        file_path = os.path.join(data_dir, filename)\n",
    "        with open(file_path, 'r', encoding='utf-8') as file:\n",
    "            text = file.read().strip()  # Read the entire content of the file\n",
    "            df = pd.DataFrame({'text': [text], 'label': [1]})  # Create a DataFrame with text and label\n",
    "            dfs.append(df)\n",
    "\n",
    "if not dfs:\n",
    "    print(\"No valid files found in the directory.\")\n",
    "else:\n",
    "    # Concatenate all data frames into a single DataFrame\n",
    "    combined_df = pd.concat(dfs, ignore_index=True)\n",
    "\n",
    "    # Save the combined DataFrame to a CSV file\n",
    "    output_file = 'kaggle/my_datasets/gpt_writing.csv'\n",
    "    combined_df.to_csv(output_file, index=False)\n",
    "\n",
    "    print(f\"Dataset saved to {output_file}\")"
   ]
  },
  {
   "cell_type": "code",
   "execution_count": 10,
   "id": "b79e68bf-7146-4a3a-957d-15efa9b78e95",
   "metadata": {},
   "outputs": [
    {
     "name": "stdout",
     "output_type": "stream",
     "text": [
      "Dataset saved to kaggle/my_datasets/human.csv\n"
     ]
    }
   ],
   "source": [
    "# Specify the directory where your data files are located\n",
    "data_dir = 'ghostbuster_data/essay/human'\n",
    "\n",
    "# Initialize an empty list to store data frames from each file\n",
    "dfs = []\n",
    "\n",
    "# Iterate over each file in the directory\n",
    "for filename in os.listdir(data_dir):\n",
    "    if filename.endswith('.txt'):\n",
    "        file_path = os.path.join(data_dir, filename)\n",
    "        with open(file_path, 'r', encoding='utf-8') as file:\n",
    "            text = file.read().strip()  # Read the entire content of the file\n",
    "            df = pd.DataFrame({'text': [text], 'label': [0]})  # Create a DataFrame with text and label\n",
    "            dfs.append(df)\n",
    "\n",
    "if not dfs:\n",
    "    print(\"No valid files found in the directory.\")\n",
    "else:\n",
    "    # Concatenate all data frames into a single DataFrame\n",
    "    combined_df = pd.concat(dfs, ignore_index=True)\n",
    "\n",
    "    # Save the combined DataFrame to a CSV file\n",
    "    output_file = 'kaggle/my_datasets/human.csv'\n",
    "    combined_df.to_csv(output_file, index=False)\n",
    "\n",
    "    print(f\"Dataset saved to {output_file}\")"
   ]
  },
  {
   "cell_type": "code",
   "execution_count": 11,
   "id": "acd64195-11a1-466d-a406-918c40aa31e9",
   "metadata": {},
   "outputs": [
    {
     "name": "stdout",
     "output_type": "stream",
     "text": [
      "Dataset saved to kaggle/my_datasets/human2.csv\n"
     ]
    }
   ],
   "source": [
    "# Specify the directory where your data files are located\n",
    "data_dir = 'ghostbuster_data/essay/human2'\n",
    "\n",
    "# Initialize an empty list to store data frames from each file\n",
    "dfs = []\n",
    "\n",
    "# Iterate over each file in the directory\n",
    "for filename in os.listdir(data_dir):\n",
    "    if filename.endswith('.txt'):\n",
    "        file_path = os.path.join(data_dir, filename)\n",
    "        with open(file_path, 'r', encoding='utf-8') as file:\n",
    "            text = file.read().strip()  # Read the entire content of the file\n",
    "            df = pd.DataFrame({'text': [text], 'label': [0]})  # Create a DataFrame with text and label\n",
    "            dfs.append(df)\n",
    "\n",
    "if not dfs:\n",
    "    print(\"No valid files found in the directory.\")\n",
    "else:\n",
    "    # Concatenate all data frames into a single DataFrame\n",
    "    combined_df = pd.concat(dfs, ignore_index=True)\n",
    "\n",
    "    # Save the combined DataFrame to a CSV file\n",
    "    output_file = 'kaggle/my_datasets/human2.csv'\n",
    "    combined_df.to_csv(output_file, index=False)\n",
    "\n",
    "    print(f\"Dataset saved to {output_file}\")"
   ]
  },
  {
   "cell_type": "code",
   "execution_count": 12,
   "id": "b967e9a9-157c-499b-8e70-053663a747ae",
   "metadata": {},
   "outputs": [
    {
     "name": "stdout",
     "output_type": "stream",
     "text": [
      "Dataset saved to kaggle/my_datasets/human3.csv\n"
     ]
    }
   ],
   "source": [
    "# Specify the directory where your data files are located\n",
    "data_dir = 'ghostbuster_data/essay/human3'\n",
    "\n",
    "# Initialize an empty list to store data frames from each file\n",
    "dfs = []\n",
    "\n",
    "# Iterate over each subfolder in the main directory\n",
    "for subfolder in os.listdir(data_dir):\n",
    "    subfolder_path = os.path.join(data_dir, subfolder)\n",
    "    if os.path.isdir(subfolder_path):  # Check if it is a subfolder\n",
    "        # Iterate over each file in the subfolder\n",
    "        for filename in os.listdir(subfolder_path):\n",
    "            if filename.endswith('.txt'):\n",
    "                file_path = os.path.join(subfolder_path, filename)\n",
    "                with open(file_path, 'r', encoding='utf-8') as file:\n",
    "                    text = file.read().strip()  # Read the entire content of the file\n",
    "                    df = pd.DataFrame({'text': [text], 'label': [0]})  # Create a DataFrame with text and label\n",
    "                    dfs.append(df)\n",
    "\n",
    "if not dfs:\n",
    "    print(\"No valid files found in the directory.\")\n",
    "else:\n",
    "    # Concatenate all data frames into a single DataFrame\n",
    "    combined_df = pd.concat(dfs, ignore_index=True)\n",
    "\n",
    "    # Save the combined DataFrame to a CSV file\n",
    "    output_file = 'kaggle/my_datasets/human3.csv'\n",
    "    combined_df.to_csv(output_file, index=False)\n",
    "\n",
    "    print(f\"Dataset saved to {output_file}\")\n"
   ]
  },
  {
   "cell_type": "code",
   "execution_count": null,
   "id": "bfffe9fc-16ad-48ea-87a0-087b11ebb6b0",
   "metadata": {},
   "outputs": [],
   "source": []
  }
 ],
 "metadata": {
  "kernelspec": {
   "display_name": "Python 3 (ipykernel)",
   "language": "python",
   "name": "python3"
  },
  "language_info": {
   "codemirror_mode": {
    "name": "ipython",
    "version": 3
   },
   "file_extension": ".py",
   "mimetype": "text/x-python",
   "name": "python",
   "nbconvert_exporter": "python",
   "pygments_lexer": "ipython3",
   "version": "3.11.5"
  }
 },
 "nbformat": 4,
 "nbformat_minor": 5
}
